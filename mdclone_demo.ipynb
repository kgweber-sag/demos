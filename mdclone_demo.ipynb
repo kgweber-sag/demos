{
 "cells": [
  {
   "cell_type": "markdown",
   "id": "f189915133e95207",
   "metadata": {},
   "source": [
    "# Terminology Server API Demonstration\n",
    "\n",
    "Let's set up and then build a function that can help us exercise the API"
   ]
  },
  {
   "cell_type": "code",
   "id": "b2c35b72b85e5c22",
   "metadata": {
    "ExecuteTime": {
     "end_time": "2025-03-11T14:29:47.767092Z",
     "start_time": "2025-03-11T14:29:47.758798Z"
    }
   },
   "source": [
    "import json\n",
    "import os\n",
    "from pprint import pprint as pp\n",
    "\n",
    "import dotenv\n",
    "import requests\n",
    "import pandas as pd\n",
    "from openpyxl import load_workbook, Workbook\n",
    "\n",
    "dotenv.load_dotenv()\n",
    "\n",
    "\n",
    "base_url = os.environ.get(\"TERM_SERVER_URL\")"
   ],
   "outputs": [],
   "execution_count": 52
  },
  {
   "cell_type": "markdown",
   "id": "2c12bed732f5f1fa",
   "metadata": {},
   "source": [
    "## Search Helper\n",
    "\n",
    "This function helps us send a search request to the terminology server"
   ]
  },
  {
   "cell_type": "code",
   "id": "b95e87a016b78f2b",
   "metadata": {
    "ExecuteTime": {
     "end_time": "2025-03-11T12:55:50.502881Z",
     "start_time": "2025-03-11T12:55:50.498632Z"
    }
   },
   "source": [
    "def search(chunks, vocab=[], valuesets=[], domain_id=[], topk=15):\n",
    "    url = base_url + \"/search\"\n",
    "\n",
    "    headers = {\"Content-Type\": \"application/json\"}\n",
    "    payload = {\"chunks\": chunks,\n",
    "               \"vocabulary_id\": vocab,\n",
    "               \"domain_id\": domain_id,\n",
    "               \"valueset_metadata_ids\": valuesets,\n",
    "               \"topk\": topk,\n",
    "               \"filter_by_valueset\": len(valuesets) > 0}\n",
    "    response = requests.post(url, headers=headers, data=json.dumps(payload))\n",
    "    return response.json()"
   ],
   "outputs": [],
   "execution_count": 7
  },
  {
   "cell_type": "code",
   "id": "initial_id",
   "metadata": {
    "ExecuteTime": {
     "end_time": "2025-03-11T14:28:47.314429Z",
     "start_time": "2025-03-11T14:28:47.126827Z"
    }
   },
   "source": [
    "wb = load_workbook('JSL file.xlsx')\n",
    "wb_sheets = {'Medication Example':{\"df\":None,\n",
    "                                   \"lookup_col\":\"Medication Name\",\n",
    "                                   \"domain\": \"Drug\"},\n",
    " # 'Med Frequency': {\"df\":None,\n",
    " #                   \"lookup_col\":\"Frequency Value\"},\n",
    " 'Anesthesia Type': {\"df\":None,\n",
    "                     \"lookup_col\":\"Anesthesia code\",\n",
    "                     \"domain\":\"Procedure\"},\n",
    " 'Procedure Names': {\"df\":None,\n",
    "                     \"lookup_col\":\"PROC_Name Code\",\n",
    "                     \"domain\":\"Procedure\"},\n",
    " 'ICD O Topography': {\"df\":None,\n",
    "                      \"lookup_col\":\"description\",\n",
    "                      \"domain\":\"Spec Anatomic Site\"},\n",
    " 'Radiology or Proc': {\"df\":None,\n",
    "                       \"lookup_col\":\"Radiology/Procedure Name\",\n",
    "                       \"domain\":\"Procedure\"},\n",
    " 'Labs': {\"df\":None,\n",
    "          \"lookup_col\":\"test_name\",\n",
    "          \"domain\":\"Measurement\"},\n",
    " 'DRG Quebec French': {\"df\":None,\n",
    "                       \"lookup_col\":\"DRG (French)\",\n",
    "                       \"domain\":\"Procedure\"}}"
   ],
   "outputs": [],
   "execution_count": 49
  },
  {
   "cell_type": "code",
   "id": "3b32aa6d9af54a33",
   "metadata": {
    "ExecuteTime": {
     "end_time": "2025-03-11T14:28:49.035237Z",
     "start_time": "2025-03-11T14:28:48.715448Z"
    }
   },
   "source": [
    "for sheet in wb_sheets.keys():\n",
    "    wb_sheets[sheet]['df'] = pd.read_excel('JSL file.xlsx', sheet_name=sheet)"
   ],
   "outputs": [],
   "execution_count": 50
  },
  {
   "metadata": {},
   "cell_type": "markdown",
   "source": [
    "* Generate a spreadsheet which has a response for each of the first 25 rows in each of the 8 tabs they sent?\n",
    "* I don’t think we need to respond for everything in the ‘Med-Frequency’, ‘Procedure Names’, or ‘Labs’ tabs – it doesn’t seem reasonable for a test/demo. We can give them a 30-day trial later or ask them to explain why they really need all of them before deciding about buying.\n",
    "* For each of the first 25 terms within each tab, we should return the top several matches we find – across all terminologies. For some tabs, we may want to limit to some terminologies (i.e. only ICD-10-PCS and SNOMED-CT for procedure names), but in general we should return whatever is found.\n",
    "* Do we have the ATC and DRG ontologies in the tool? If not, we should.\n",
    "* For Med-Frequency and Labs, they may be looking for a Concept Map, to map the variety of input codes they get to a smaller list. That we’ll have to ask them.\n",
    "* Once the response spreadsheet is generated - @Radu Bisca, we need a manual review of it to check that it’s correct."
   ],
   "id": "e29e4c7bb47636a0"
  },
  {
   "cell_type": "code",
   "id": "f0a14d0fe47ff8d4",
   "metadata": {
    "ExecuteTime": {
     "end_time": "2025-03-11T14:35:11.532348Z",
     "start_time": "2025-03-11T14:35:09.225130Z"
    }
   },
   "source": [
    "for sheet, sheet_data in wb_sheets.items():\n",
    "    wb_sheets[sheet]['response_data'] = pd.DataFrame()\n",
    "    print(sheet)\n",
    "    chunks = wb_sheets[sheet]['df'][wb_sheets[sheet]['lookup_col']].head(25).tolist()\n",
    "    response = search(chunks,\n",
    "                      topk=5,\n",
    "                      domain_id=[wb_sheets[sheet]['domain']])\n",
    "    for chunk, responses in response.items():\n",
    "        resp_df = pd.DataFrame([x['cmetadata'] for x in responses])\n",
    "        cols = resp_df.columns\n",
    "        resp_df['input'] = chunk\n",
    "        resp_df = resp_df[['input'] + cols.tolist()]\n",
    "        wb_sheets[sheet]['response_data'] = pd.concat([wb_sheets[sheet]['response_data'], resp_df])\n"
   ],
   "outputs": [
    {
     "name": "stdout",
     "output_type": "stream",
     "text": [
      "Medication Example\n",
      "Anesthesia Type\n",
      "Procedure Names\n",
      "ICD O Topography\n",
      "Radiology or Proc\n",
      "Labs\n",
      "DRG Quebec French\n"
     ]
    }
   ],
   "execution_count": 55
  },
  {
   "metadata": {
    "ExecuteTime": {
     "end_time": "2025-03-11T14:35:13.607401Z",
     "start_time": "2025-03-11T14:35:13.581704Z"
    }
   },
   "cell_type": "code",
   "source": [
    "new_sheet = Workbook()\n",
    "for sheet, sheet_data in wb_sheets.items():\n",
    "    ws = new_sheet.create_sheet(title=sheet)\n",
    "    ws.append(sheet_data['response_data'].columns.tolist())\n",
    "    for row in sheet_data['response_data'].values.tolist():\n",
    "        ws.append(row)"
   ],
   "id": "1426f65ce310bfa6",
   "outputs": [],
   "execution_count": 56
  },
  {
   "metadata": {
    "ExecuteTime": {
     "end_time": "2025-03-11T14:35:15.617170Z",
     "start_time": "2025-03-11T14:35:15.552433Z"
    }
   },
   "cell_type": "code",
   "source": "new_sheet.save('response_data.xlsx')",
   "id": "1283b3bc80659d54",
   "outputs": [],
   "execution_count": 57
  },
  {
   "metadata": {
    "ExecuteTime": {
     "end_time": "2025-03-11T14:42:01.541872Z",
     "start_time": "2025-03-11T14:42:01.451816Z"
    }
   },
   "cell_type": "code",
   "source": [
    "headers = {\"accept\": \"application/json\", \"Content-Type\": \"application/json\"}\n",
    "payload = {\n",
    "    \"codes\": [\"I21.9\"],\n",
    "    # \"vocabulary_id\":\"SNOMED\",\n",
    "    # source: None,\n",
    "    # validity: None,\n",
    "    # domain_id:  None,\n",
    "    # concept_class_id:  None,\n",
    "    # standard_concept:  None,\n",
    "    \"topk\":  10,\n",
    "}\n",
    "response = requests.post(url = 'http://34.202.244.73:5001'+'/retrieve_by_codes',\n",
    "                         headers=headers,\n",
    "                         data=json.dumps(payload))"
   ],
   "id": "c806df3724bdd791",
   "outputs": [],
   "execution_count": 76
  },
  {
   "metadata": {
    "ExecuteTime": {
     "end_time": "2025-03-11T14:42:01.964536Z",
     "start_time": "2025-03-11T14:42:01.961188Z"
    }
   },
   "cell_type": "code",
   "source": "response.json()",
   "id": "d88196b620cc56e2",
   "outputs": [
    {
     "data": {
      "text/plain": [
       "{'I21.9': [{'concept_name': 'acute myocardial infarction, unspecified',\n",
       "   'vocabulary_id': 'ICD10'},\n",
       "  {'concept_name': 'acute myocardial infarction, unspecified',\n",
       "   'vocabulary_id': 'ICD10CM'},\n",
       "  {'concept_name': 'myocardial infarction', 'vocabulary_id': 'ICD10CM'},\n",
       "  {'concept_name': 'heart attack', 'vocabulary_id': 'ICD10CM'},\n",
       "  {'concept_name': 'myocardial ischemia', 'vocabulary_id': 'ICD10CM'},\n",
       "  {'concept_name': 'ventricular septal rupture', 'vocabulary_id': 'ICD10CM'},\n",
       "  {'concept_name': 'coronary artery thrombosis', 'vocabulary_id': 'ICD10CM'},\n",
       "  {'concept_name': 'myocardial necrosis', 'vocabulary_id': 'ICD10CM'},\n",
       "  {'concept_name': 'new myocardial infarction compared to prior study',\n",
       "   'vocabulary_id': 'ICD10CM'},\n",
       "  {'concept_name': 'acute infarction of papillary muscle',\n",
       "   'vocabulary_id': 'ICD10CM'}]}"
      ]
     },
     "execution_count": 77,
     "metadata": {},
     "output_type": "execute_result"
    }
   ],
   "execution_count": 77
  }
 ],
 "metadata": {
  "kernelspec": {
   "display_name": "Python 3 (ipykernel)",
   "language": "python",
   "name": "python3"
  },
  "language_info": {
   "codemirror_mode": {
    "name": "ipython",
    "version": 3
   },
   "file_extension": ".py",
   "mimetype": "text/x-python",
   "name": "python",
   "nbconvert_exporter": "python",
   "pygments_lexer": "ipython3",
   "version": "3.11.10"
  }
 },
 "nbformat": 4,
 "nbformat_minor": 5
}
